{
  "nbformat": 4,
  "nbformat_minor": 0,
  "metadata": {
    "colab": {
      "name": "Meta2Game.ipynb",
      "provenance": [],
      "collapsed_sections": [],
      "authorship_tag": "ABX9TyM+uimNvX2SfikaBk36TE+Z",
      "include_colab_link": true
    },
    "kernelspec": {
      "name": "python3",
      "display_name": "Python 3"
    }
  },
  "cells": [
    {
      "cell_type": "markdown",
      "metadata": {
        "id": "view-in-github",
        "colab_type": "text"
      },
      "source": [
        "<a href=\"https://colab.research.google.com/github/BKhaleque/META-Part-2/blob/main/Meta2Game.ipynb\" target=\"_parent\"><img src=\"https://colab.research.google.com/assets/colab-badge.svg\" alt=\"Open In Colab\"/></a>"
      ]
    },
    {
      "cell_type": "code",
      "metadata": {
        "id": "PNfG3P3Dbufq"
      },
      "source": [
        "#Need game framework, governor agent and subordinate agents\n",
        "import numpy\n",
        "#keras for DQN\n",
        "import keras\n"
      ],
      "execution_count": null,
      "outputs": []
    },
    {
      "cell_type": "code",
      "metadata": {
        "id": "tTufWjwbfFD9"
      },
      "source": [
        "resources = ['rice', 'vegetable', 'water']\n",
        "initial_gold_per_agent = [10,10,10,10]\n",
        "communication_level = 100 # indiciative of % of communication between agents\n",
        "iterations = 100 # no of iterations for training"
      ],
      "execution_count": null,
      "outputs": []
    },
    {
      "cell_type": "code",
      "metadata": {
        "id": "lorSYvv9fmrE"
      },
      "source": [
        "#Initial method for governor\n",
        "def governor():\n",
        "  pass"
      ],
      "execution_count": null,
      "outputs": []
    },
    {
      "cell_type": "code",
      "metadata": {
        "id": "NRgWbWylfpse"
      },
      "source": [
        "# define agent class\n",
        "class Agent:\n",
        "\n",
        "  gold = 10"
      ],
      "execution_count": null,
      "outputs": []
    }
  ]
}