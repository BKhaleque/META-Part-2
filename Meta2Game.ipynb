{
  "nbformat": 4,
  "nbformat_minor": 0,
  "metadata": {
    "colab": {
      "name": "Meta2Game.ipynb",
      "provenance": [],
      "authorship_tag": "ABX9TyOZ+JN+krxjqXfZB2xRM9A0",
      "include_colab_link": true
    },
    "kernelspec": {
      "name": "python3",
      "display_name": "Python 3"
    }
  },
  "cells": [
    {
      "cell_type": "markdown",
      "metadata": {
        "id": "view-in-github",
        "colab_type": "text"
      },
      "source": [
        "<a href=\"https://colab.research.google.com/github/BKhaleque/META-Part-2/blob/main/Meta2Game.ipynb\" target=\"_parent\"><img src=\"https://colab.research.google.com/assets/colab-badge.svg\" alt=\"Open In Colab\"/></a>"
      ]
    },
    {
      "cell_type": "code",
      "metadata": {
        "id": "PNfG3P3Dbufq"
      },
      "source": [
        "#Need game framework, governor agent and subordinate agents\n",
        "import numpy\n",
        "\n"
      ],
      "execution_count": null,
      "outputs": []
    }
  ]
}